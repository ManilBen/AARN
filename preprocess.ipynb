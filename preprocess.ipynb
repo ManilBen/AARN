{
  "nbformat": 4,
  "nbformat_minor": 0,
  "metadata": {
    "colab": {
      "name": "nn3.ipynb",
      "version": "0.3.2",
      "provenance": [],
      "collapsed_sections": []
    },
    "kernelspec": {
      "name": "python3",
      "display_name": "Python 3"
    }
  },
  "cells": [
    {
      "cell_type": "code",
      "metadata": {
        "id": "bnIDp2QlmxX0",
        "colab_type": "code",
        "outputId": "4c532f3f-672a-49e0-a513-c9bce68e7ccb",
        "colab": {
          "base_uri": "https://localhost:8080/",
          "height": 122
        }
      },
      "source": [
        "# Exécutez cette cellule pour installer votre Google Drive.\n",
        "from google.colab import drive\n",
        "drive.mount('/content/drive')"
      ],
      "execution_count": 2,
      "outputs": [
        {
          "output_type": "stream",
          "text": [
            "Go to this URL in a browser: https://accounts.google.com/o/oauth2/auth?client_id=947318989803-6bn6qk8qdgf4n4g3pfee6491hc0brc4i.apps.googleusercontent.com&redirect_uri=urn%3Aietf%3Awg%3Aoauth%3A2.0%3Aoob&scope=email%20https%3A%2F%2Fwww.googleapis.com%2Fauth%2Fdocs.test%20https%3A%2F%2Fwww.googleapis.com%2Fauth%2Fdrive%20https%3A%2F%2Fwww.googleapis.com%2Fauth%2Fdrive.photos.readonly%20https%3A%2F%2Fwww.googleapis.com%2Fauth%2Fpeopleapi.readonly&response_type=code\n",
            "\n",
            "Enter your authorization code:\n",
            "··········\n",
            "Mounted at /content/drive\n"
          ],
          "name": "stdout"
        }
      ]
    },
    {
      "cell_type": "code",
      "metadata": {
        "id": "qoTvfYlpuzqM",
        "colab_type": "code",
        "outputId": "e5e22bf6-8b84-4537-aa15-a8c4b0886b0f",
        "colab": {
          "base_uri": "https://localhost:8080/",
          "height": 391
        }
      },
      "source": [
        "\n",
        "!unzip '/content/drive/My Drive/WESAD/wesad39.zip'\n",
        "!unzip 'S3.zip'\n",
        "!unzip 'S4.zip'\n",
        "!unzip 'S5.zip'\n",
        "!unzip 'S6.zip'\n",
        "!unzip 'S7.zip'\n",
        "!unzip 'S8.zip'\n",
        "!unzip 'S9.zip'\n",
        "\n"
      ],
      "execution_count": 3,
      "outputs": [
        {
          "output_type": "stream",
          "text": [
            "Archive:  /content/drive/My Drive/WESAD/wesad39.zip\n",
            "  inflating: S6.zip                  \n",
            "  inflating: S3.zip                  \n",
            "  inflating: S4.zip                  \n",
            "  inflating: S5.zip                  \n",
            "  inflating: S7.zip                  \n",
            "  inflating: S8.zip                  \n",
            "  inflating: S9.zip                  \n",
            "Archive:  S3.zip\n",
            "  inflating: S3.pkl                  \n",
            "Archive:  S4.zip\n",
            "  inflating: S4.pkl                  \n",
            "Archive:  S5.zip\n",
            "  inflating: S5.pkl                  \n",
            "Archive:  S6.zip\n",
            "  inflating: S6.pkl                  \n",
            "Archive:  S7.zip\n",
            "  inflating: S7.pkl                  \n",
            "Archive:  S8.zip\n",
            "  inflating: S8.pkl                  \n",
            "Archive:  S9.zip\n",
            "  inflating: S9.pkl                  \n"
          ],
          "name": "stdout"
        }
      ]
    },
    {
      "cell_type": "code",
      "metadata": {
        "id": "gJXBUuQ5DGpN",
        "colab_type": "code",
        "outputId": "0cf88ade-46cd-4041-9855-e24d11ff48c2",
        "colab": {
          "base_uri": "https://localhost:8080/",
          "height": 391
        }
      },
      "source": [
        "!unzip '/content/drive/My Drive/WESAD/wesad1017.zip'\n",
        "!unzip 'S10.zip'\n",
        "!unzip 'S11.zip'\n",
        "!unzip 'S13.zip'\n",
        "!unzip 'S14.zip'\n",
        "!unzip 'S15.zip'\n",
        "!unzip 'S16.zip'\n",
        "!unzip 'S17.zip'"
      ],
      "execution_count": 4,
      "outputs": [
        {
          "output_type": "stream",
          "text": [
            "Archive:  /content/drive/My Drive/WESAD/wesad1017.zip\n",
            "  inflating: S17.zip                 \n",
            "  inflating: S10.zip                 \n",
            "  inflating: S11.zip                 \n",
            "  inflating: S13.zip                 \n",
            "  inflating: S14.zip                 \n",
            "  inflating: S15.zip                 \n",
            "  inflating: S16.zip                 \n",
            "Archive:  S10.zip\n",
            "  inflating: S10.pkl                 \n",
            "Archive:  S11.zip\n",
            "  inflating: S11.pkl                 \n",
            "Archive:  S13.zip\n",
            "  inflating: S13.pkl                 \n",
            "Archive:  S14.zip\n",
            "  inflating: S14.pkl                 \n",
            "Archive:  S15.zip\n",
            "  inflating: S15.pkl                 \n",
            "Archive:  S16.zip\n",
            "  inflating: S16.pkl                 \n",
            "Archive:  S17.zip\n",
            "  inflating: S17.pkl                 \n"
          ],
          "name": "stdout"
        }
      ]
    },
    {
      "cell_type": "code",
      "metadata": {
        "id": "vfhAz1JYLXuT",
        "colab_type": "code",
        "colab": {
          "base_uri": "https://localhost:8080/",
          "height": 34
        },
        "outputId": "c88eafa1-b4f2-4dd4-df52-9de45da6db86"
      },
      "source": [
        "import pickle\n",
        "import numpy as np\n",
        "import pandas as pd\n",
        "import matplotlib.pyplot as plt\n",
        "\n",
        "from keras.models import Sequential\n",
        "from keras.layers import Dense\n",
        "from sklearn.preprocessing import normalize\n",
        "from sklearn.model_selection import train_test_split"
      ],
      "execution_count": 8,
      "outputs": [
        {
          "output_type": "stream",
          "text": [
            "Using TensorFlow backend.\n"
          ],
          "name": "stderr"
        }
      ]
    },
    {
      "cell_type": "code",
      "metadata": {
        "id": "M3bQLylxQE_z",
        "colab_type": "code",
        "colab": {}
      },
      "source": [
        "a = open('S10.pkl', 'rb')\n",
        "data = pickle.load(a,encoding='latin-1')\n"
      ],
      "execution_count": 0,
      "outputs": []
    },
    {
      "cell_type": "code",
      "metadata": {
        "id": "qKVOvvqCX7qw",
        "colab_type": "code",
        "colab": {
          "base_uri": "https://localhost:8080/",
          "height": 34
        },
        "outputId": "e4f14a21-0bff-48de-c3d8-42d8b92de426"
      },
      "source": [
        "data['signal']['chest'].keys()"
      ],
      "execution_count": 13,
      "outputs": [
        {
          "output_type": "stream",
          "text": [
            "dict_keys(['ACC', 'ECG', 'EMG', 'EDA', 'Temp', 'Resp'])\n"
          ],
          "name": "stdout"
        }
      ]
    },
    {
      "cell_type": "code",
      "metadata": {
        "id": "oJ0xqED3YLIf",
        "colab_type": "code",
        "colab": {
          "base_uri": "https://localhost:8080/",
          "height": 34
        },
        "outputId": "1d91d1a9-335d-4f61-e25b-c35eff02387d"
      },
      "source": [
        "data['signal']['wrist'].keys()"
      ],
      "execution_count": 14,
      "outputs": [
        {
          "output_type": "execute_result",
          "data": {
            "text/plain": [
              "dict_keys(['ACC', 'BVP', 'EDA', 'TEMP'])"
            ]
          },
          "metadata": {
            "tags": []
          },
          "execution_count": 14
        }
      ]
    },
    {
      "cell_type": "markdown",
      "metadata": {
        "id": "5_p9B6QEMHxB",
        "colab_type": "text"
      },
      "source": [
        "The WESAD Dataset contains physiological data from n subjects.\n",
        "The data has been recorded in laboratory condition and is formed of :\n",
        "\n",
        "  - Wrist Data :\n",
        "  \n",
        "    -  ACC : Accelerometer (32 Hz)\n",
        "    - BVP  : Blood Volume Pulse (64 Hz)\n",
        "    - EDA (Electro Dermal Activity) (4 Hz)\n",
        "    - TEMP : Temperature du corps (4 Hz)\n",
        "\n",
        "  - Chest Data :\n",
        "    \n",
        "    - ACC : Acclerometer (700 Hz)\n",
        "    - ECG (Electro CardioGram) (700 Hz)\n",
        "    - EDA (Electro Dermal Activity) (700 Hz)\n",
        "    - EMG (Electro MyoGram) (700 Hz)\n",
        "    - RESP : Respiration measured in %\n",
        "    - TEMP : Body Temperature  \n"
      ]
    },
    {
      "cell_type": "code",
      "metadata": {
        "id": "0hxXo57PnYvE",
        "colab_type": "code",
        "colab": {
          "base_uri": "https://localhost:8080/",
          "height": 433
        },
        "outputId": "9065f8e5-7a18-4fda-8e4c-9cc6d190c9a6"
      },
      "source": [
        "ecg = data['signal']['chest']['ECG'].flatten()\n",
        "fig, ax = plt.subplots(num=None, figsize=(14, 6), dpi=80, facecolor='w', edgecolor='k')\n",
        "size = len(temp)\n",
        "ax.plot(range(0,len(ecg)), ecg, color='red', animated = True, linewidth=1)\n"
      ],
      "execution_count": 15,
      "outputs": [
        {
          "output_type": "execute_result",
          "data": {
            "text/plain": [
              "[<matplotlib.lines.Line2D at 0x7f9dd4838278>]"
            ]
          },
          "metadata": {
            "tags": []
          },
          "execution_count": 15
        },
        {
          "output_type": "display_data",
          "data": {
            "image/png": "[encoded data removed]",
            "text/plain": [
              "<Figure size 1120x480 with 1 Axes>"
            ]
          },
          "metadata": {
            "tags": []
          }
        }
      ]
    },
    {
      "cell_type": "code",
      "metadata": {
        "id": "HtiCL3SyutAB",
        "colab_type": "code",
        "colab": {}
      },
      "source": [
        "def load_subject(subject):\n",
        "  \n",
        "  a = open(subject+'.pkl', 'rb')\n",
        "  data = pickle.load(a,encoding='latin-1')\n",
        "  return data\n",
        "  "
      ],
      "execution_count": 0,
      "outputs": []
    },
    {
      "cell_type": "markdown",
      "metadata": {
        "id": "M5TLnxfORFHJ",
        "colab_type": "text"
      },
      "source": [
        "As we will work on stress detection at work, we will work only on wrist data as it is a more practical approach in real life conditions.\n",
        "\n",
        "The features of wrist data are synchronized at 32,64 and 4 Hz.\n",
        "\n",
        "We will reduce all frequencies of wrist data to 4 Hz."
      ]
    },
    {
      "cell_type": "code",
      "metadata": {
        "id": "eJ2kEizJD8qg",
        "colab_type": "code",
        "colab": {}
      },
      "source": [
        "'''  Reduction de dimensions  '''\n",
        "\n",
        "def reduce_dim(att,data):\n",
        "  if att == 'EDA' or att == 'TEMP' :\n",
        "    return data['signal']['wrist'][att]\n",
        "  \n",
        "  HZ4 = data['signal']['wrist']['EDA'].shape[0]\n",
        "  ratio = data['signal']['wrist'][att].shape[0]/HZ4\n",
        "  lst=np.array([data['signal']['wrist'][att][0]])\n",
        "  print(lst)\n",
        "  s=0\n",
        "  for i in range(2,data['signal']['wrist'][att].shape[0]):\n",
        "    if i%ratio==1:\n",
        "      lst=np.concatenate((lst,[data['signal']['wrist'][att][i-1]]), axis = 0)\n",
        "      s=s+1\n",
        "  lst = lst.astype('float32')\n",
        "  return lst"
      ],
      "execution_count": 0,
      "outputs": []
    },
    {
      "cell_type": "code",
      "metadata": {
        "id": "ThXtRAk7o94a",
        "colab_type": "code",
        "colab": {}
      },
      "source": [
        "'''   Synchronisation a 4 hz des inputs '''\n",
        "def sync_inputs(data):\n",
        "  acc = reduce_dim('ACC',data)\n",
        "  don = np.array(acc)\n",
        "  don = don[:20000,:]\n",
        "  attributes = np.array(list(data['signal']['wrist'].keys()))\n",
        "  attributes = attributes[attributes != 'ACC']\n",
        "  for attr in attributes :\n",
        "    #print(attr)\n",
        "    if attr != 'EDA' and attr != 'TEMP' :\n",
        "      a=reduce_dim(attr,data)\n",
        "    else :\n",
        "      a=data['signal']['wrist'][attr]\n",
        "    a=a[:20000,:]\n",
        "    don = np.concatenate((don,a), axis=1)\n",
        "    #print(don)\n",
        "  return don"
      ],
      "execution_count": 0,
      "outputs": []
    },
    {
      "cell_type": "code",
      "metadata": {
        "id": "tLSMqtl0CoYt",
        "colab_type": "code",
        "colab": {}
      },
      "source": [
        "'''   Synchronisation a 4 hz des outputs '''\n",
        "\n",
        "def sync_outputs(data):\n",
        "  \n",
        "  rate = len(data['label'])/data['signal']['wrist']['TEMP'].shape[0]\n",
        "  lst=np.array([data['label'][0]])\n",
        "  a=[]\n",
        "  s=0\n",
        "  for i in range(0,len(data['label'])):\n",
        "    ratio = 1 if data['label'][i]==0 else data['label'][i] \n",
        "    a.append(data['label'][i])\n",
        "    if i%rate==0:\n",
        "      lst=np.concatenate((lst,[data['label'][i-1]]), axis = 0)\n",
        "      a=[]\n",
        "  \n",
        "  lst=lst[:20000]\n",
        "  lst = lst.reshape(20000,1)\n",
        "  return lst"
      ],
      "execution_count": 0,
      "outputs": []
    },
    {
      "cell_type": "code",
      "metadata": {
        "id": "Db-XzbnB4mL8",
        "colab_type": "code",
        "colab": {}
      },
      "source": [
        "'''  Concatene tous les sujets  '''\n",
        "\n",
        "def load_group(filenames, device):\n",
        "  loaded = np.array([[]])\n",
        "  #loaded_target = np.empty((20000,1))\n",
        "  loaded_target = np.array([[]])\n",
        "  print(loaded)\n",
        "  firstIter = True\n",
        "  s=0\n",
        "  taille=0\n",
        "  synchronize = []\n",
        "  target = []\n",
        "  for name in filenames :\n",
        "    data = load_subject(name)\n",
        "    synchronize = sync_inputs(data)\n",
        "    taille = taille + synchronize.shape[0]\n",
        "    target = sync_outputs(data)\n",
        "    if firstIter : \n",
        "      loaded_target = target\n",
        "      loaded = synchronize\n",
        "      firstIter = False\n",
        "    else :\n",
        "      loaded_target = np.concatenate((loaded_target,target), axis = 0)\n",
        "      loaded_target = loaded_target.astype('int32')\n",
        "      loaded = np.concatenate((loaded,synchronize), axis = 0)\n",
        "\n",
        "    s=s+target.shape[0]\n",
        "  loaded.reshape((taille,6))\n",
        "  loaded_target.reshape((s,1))\n",
        "\n",
        "  return {'input':loaded, 'target':loaded_target}"
      ],
      "execution_count": 0,
      "outputs": []
    },
    {
      "cell_type": "code",
      "metadata": {
        "id": "jEf3EkLt1cRf",
        "colab_type": "code",
        "colab": {}
      },
      "source": [
        "def preprocessing():\n",
        "  filenames = ['S3,'S4','S5','S6','S5','S6','S7','S8','S9',S10','S11','S13','S14','S15','S16','S17']\n",
        "  return load_group(filenames,'wrist')"
      ],
      "execution_count": 0,
      "outputs": []
    },
    {
      "cell_type": "code",
      "metadata": {
        "id": "MUTr6veeGiMA",
        "colab_type": "code",
        "colab": {}
      },
      "source": [
        "pd.DataFrame(d['input']).to_csv(\"in1017.csv\")\n",
        "!cp in1017.csv drive/My\\ Drive/\n",
        "pd.DataFrame(d['target']).to_csv(\"tr1017.csv\")\n",
        "!cp tr1017.csv drive/My\\ Drive/"
      ],
      "execution_count": 0,
      "outputs": []
    },
    {
      "cell_type": "code",
      "metadata": {
        "id": "B4MvDQykS9s1",
        "colab_type": "code",
        "colab": {}
      },
      "source": [
        "from google.colab import files\n",
        "files.download('inwr.csv') \n",
        "files.download('trwr.csv') "
      ],
      "execution_count": 0,
      "outputs": []
    },
    {
      "cell_type": "code",
      "metadata": {
        "id": "aAL_eo7Yn79i",
        "colab_type": "code",
        "colab": {}
      },
      "source": [
        "pd.DataFrame(d['input']).to_csv(\"in39.csv\")\n",
        "!cp in39.csv drive/My\\ Drive/\n",
        "pd.DataFrame(d['target']).to_csv(\"tr39.csv\")\n",
        "!cp tr39.csv drive/My\\ Drive/"
      ],
      "execution_count": 0,
      "outputs": []
    }
  ]
}